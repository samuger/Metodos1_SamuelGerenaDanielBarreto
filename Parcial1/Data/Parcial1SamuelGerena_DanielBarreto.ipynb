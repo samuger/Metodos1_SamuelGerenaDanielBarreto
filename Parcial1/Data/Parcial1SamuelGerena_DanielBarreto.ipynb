{
  "nbformat": 4,
  "nbformat_minor": 0,
  "metadata": {
    "colab": {
      "provenance": []
    },
    "kernelspec": {
      "name": "python3",
      "display_name": "Python 3"
    },
    "language_info": {
      "name": "python"
    }
  },
  "cells": [
    {
      "cell_type": "code",
      "execution_count": 70,
      "metadata": {
        "colab": {
          "base_uri": "https://localhost:8080/",
          "height": 727
        },
        "id": "boaQLHx962-B",
        "outputId": "02460df1-8d4d-4cd0-fc83-df6c38fda009"
      },
      "outputs": [
        {
          "output_type": "stream",
          "name": "stdout",
          "text": [
            "[7.82008607e-08 7.66708617e-08 7.51428156e-08 7.36168770e-08\n",
            " 7.20932172e-08 7.05720269e-08 6.90535187e-08 6.75379306e-08\n",
            " 6.60255296e-08 6.45166162e-08 6.30115299e-08 6.15106554e-08\n",
            " 6.00144304e-08 5.85233541e-08 5.70379988e-08 5.55590224e-08\n",
            " 5.40871842e-08 5.26233642e-08 5.11685854e-08 4.97240418e-08\n",
            " 4.82911308e-08 4.68714927e-08 4.54670565e-08 4.40800927e-08\n",
            " 4.27132729e-08 4.13697321e-08 4.00531303e-08 3.87677025e-08\n",
            " 3.75182810e-08 3.63102674e-08 3.51495236e-08 3.40421516e-08\n",
            " 3.29941421e-08 3.20109028e-08 3.10967257e-08 3.02543019e-08\n",
            " 2.94844135e-08 2.87858996e-08 2.81559102e-08 2.75903736e-08\n",
            " 2.70845519e-08 2.66335666e-08 2.62328190e-08 2.58782838e-08\n",
            " 2.55666889e-08 2.52956117e-08 2.50635247e-08 2.48698160e-08\n",
            " 2.47148027e-08 2.45997482e-08 2.45268847e-08 2.44994363e-08\n",
            " 2.45216292e-08 2.45986642e-08 2.47366191e-08 2.49422381e-08\n",
            " 2.52225676e-08 2.55844199e-08 2.60336926e-08 2.65746384e-08\n",
            " 2.72092416e-08 2.79368704e-08 2.87543083e-08 2.96561528e-08\n",
            " 3.06354573e-08 3.16844437e-08 3.27951392e-08 3.39598548e-08\n",
            " 3.51714891e-08 3.64236810e-08 3.77108532e-08 3.90281862e-08\n",
            " 4.03715541e-08 4.17374445e-08 4.31228757e-08 4.45253185e-08\n",
            " 4.59426256e-08 4.73729710e-08 4.88147978e-08 5.02667745e-08\n",
            " 5.17277584e-08 5.31967657e-08 5.46729459e-08 5.61555612e-08\n",
            " 5.76439690e-08 5.91376077e-08 6.06359849e-08 6.21386669e-08\n",
            " 6.36452710e-08 6.51554577e-08 6.66689256e-08 6.81854058e-08\n",
            " 6.97046578e-08 7.12264661e-08 7.27506367e-08 7.42769950e-08\n",
            " 7.58053829e-08 7.73356573e-08 7.88676885e-08 8.04013580e-08]\n"
          ]
        },
        {
          "output_type": "execute_result",
          "data": {
            "text/plain": [
              "[<matplotlib.lines.Line2D at 0x7f34e3ab9f70>]"
            ]
          },
          "metadata": {},
          "execution_count": 70
        },
        {
          "output_type": "display_data",
          "data": {
            "text/plain": [
              "<Figure size 432x288 with 1 Axes>"
            ],
            "image/png": "[encoded data removed]"
          },
          "metadata": {
            "needs_background": "light"
          }
        }
      ],
      "source": [
        "import numpy as np\n",
        "import matplotlib.pyplot as plt\n",
        "import math as math\n",
        "T=np.array([-3,2])\n",
        "R=np.array([2,-2])\n",
        "x=np.linspace(-10,10,100)\n",
        "def funnciontx(x,T,R,no=1,n1=1.33):\n",
        "  C=3*(10**8)\n",
        "  return (no*np.sqrt(((x-T[0])**2)+T[1]**2) + n1*np.sqrt(((x-R[0])**2)+R[1]**2))/C\n",
        "  \n",
        "y=funnciontx(x,T,R)\n",
        "print(y)\n",
        "plt.plot(x,y)"
      ]
    },
    {
      "cell_type": "code",
      "source": [
        "def Derivative(f,x,h=1e-6):\n",
        "    return (f(x+h,T,R)-f(x-h,T,R))/(2*h)\n",
        "\n",
        "def Derivative2(f,x,h=1e-7):\n",
        "    return(f(x+h,T,R)-2*f(x,T,R)+f(x-h,T,R))/(h**2)\n",
        "\n",
        "def GetNewtonRaphson(f,df,ddf,xn,itmax = 1000, precision=1e-12):\n",
        "    error = 1\n",
        "    it = 0\n",
        "    while error > precision and it <= itmax:\n",
        "        try:\n",
        "            xn1 = xn - df(f,xn)/ddf(f,xn)\n",
        "            error = np.abs(df(f,xn)/ddf(f,xn))\n",
        "        except ZeroDivisionError:\n",
        "            print('Division por cero')\n",
        "        it += 1\n",
        "        xn = xn1\n",
        "    if it == itmax:\n",
        "        False\n",
        "    else:\n",
        "        return xn\n",
        "minimo=GetNewtonRaphson(funnciontx,Derivative,Derivative2,0)\n",
        "minimo"
      ],
      "metadata": {
        "colab": {
          "base_uri": "https://localhost:8080/"
        },
        "id": "sT-nYGyFAVPS",
        "outputId": "7b9dbfc0-5dd6-4e93-aa54-848f727b6d2b"
      },
      "execution_count": 50,
      "outputs": [
        {
          "output_type": "execute_result",
          "data": {
            "text/plain": [
              "0.3169057569166666"
            ]
          },
          "metadata": {},
          "execution_count": 50
        }
      ]
    },
    {
      "cell_type": "code",
      "source": [
        "def anguloalpha1(T,minimo):\n",
        "  return np.arcsin(T[1]/(np.sqrt(((minimo-T[0])**2)+T[1]**2)))\n",
        "a1= anguloalpha1(T,minimo)\n",
        "a1*180/np.pi"
      ],
      "metadata": {
        "colab": {
          "base_uri": "https://localhost:8080/"
        },
        "id": "fqCQrOQ7Ii7t",
        "outputId": "1bca7d86-1daf-4413-8662-733d1cb49ac3"
      },
      "execution_count": 78,
      "outputs": [
        {
          "output_type": "execute_result",
          "data": {
            "text/plain": [
              "31.08878406459113"
            ]
          },
          "metadata": {},
          "execution_count": 78
        }
      ]
    },
    {
      "cell_type": "code",
      "source": [
        "def anguloalpha2(R,minimo):\n",
        "  return np.arcsin((R[0]-minimo)/(np.sqrt( ( (minimo-R[0])**2 )+R[1]**2)) )\n",
        "a2= anguloalpha2(R,minimo)\n",
        "a2*180/np.pi"
      ],
      "metadata": {
        "colab": {
          "base_uri": "https://localhost:8080/"
        },
        "id": "7Ojv67e3LDs2",
        "outputId": "2afe2a82-9f7a-4c65-dbbf-b19032bc05db"
      },
      "execution_count": 79,
      "outputs": [
        {
          "output_type": "execute_result",
          "data": {
            "text/plain": [
              "40.082191741371894"
            ]
          },
          "metadata": {},
          "execution_count": 79
        }
      ]
    },
    {
      "cell_type": "code",
      "source": [
        "xf=np.sin(a1)/np.sin(a2)\n",
        "xd=1/1.33\n",
        "print(xf,xd)\n",
        "print(\"El valor difiere debido a las funciones de arcoseno de numpy\")"
      ],
      "metadata": {
        "colab": {
          "base_uri": "https://localhost:8080/"
        },
        "id": "Ruvao4l5Nbat",
        "outputId": "dcdb2aad-213f-4585-93c2-e1c6404ca637"
      },
      "execution_count": 80,
      "outputs": [
        {
          "output_type": "stream",
          "name": "stdout",
          "text": [
            "0.8019522394215203 0.7518796992481203\n",
            "El valor difiere debido a las funciones de arcoseno de numpy\n"
          ]
        }
      ]
    }
  ]
}