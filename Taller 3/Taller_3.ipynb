{
  "nbformat": 4,
  "nbformat_minor": 0,
  "metadata": {
    "colab": {
      "provenance": []
    },
    "kernelspec": {
      "name": "python3",
      "display_name": "Python 3"
    },
    "language_info": {
      "name": "python"
    }
  },
  "cells": [
    {
      "cell_type": "code",
      "source": [
        "\n",
        "import numpy as np\n",
        "import matplotlib.pyplot as plt\n",
        "from sympy.utilities.iterables import multiset_permutations\n",
        "from numpy import diff\n",
        "import sympy as sym\n",
        "import math\n",
        "import urllib.request"
      ],
      "metadata": {
        "id": "YdSi9tYxeOLL"
      },
      "execution_count": null,
      "outputs": []
    },
    {
      "cell_type": "markdown",
      "source": [
        "# Algebra lineal"
      ],
      "metadata": {
        "id": "e3eltDYblJ6e"
      }
    },
    {
      "cell_type": "code",
      "execution_count": null,
      "metadata": {
        "colab": {
          "base_uri": "https://localhost:8080/"
        },
        "id": "WndqvGE1ctB9",
        "outputId": "a40ca409-295a-4293-93ca-e117f19c2041"
      },
      "outputs": [
        {
          "output_type": "execute_result",
          "data": {
            "text/plain": [
              "array([[ 4., -2.,  1.],\n",
              "       [20., -7., 12.],\n",
              "       [-8., 13., 21.]])"
            ]
          },
          "metadata": {},
          "execution_count": 32
        }
      ],
      "source": [
        "#Ejercicio 3\n",
        "\n",
        "def multiplicacion(A,B):\n",
        "  n=A.shape[1]\n",
        "  n2=A.shape[0]\n",
        "  n3=B.shape[1]\n",
        "  n4=B.shape[0]\n",
        "  Result=np.zeros((n2,n3))\n",
        "  if n == n4:\n",
        "    for i in range(n2):\n",
        "      for j in range(n3):\n",
        "        Result[i,j]= np.sum(A[i,:]*B[:,j])\n",
        "    return Result\n",
        "  else:\n",
        "    return 0\n",
        "\n",
        "A=np.array([[1,0,0],[5,1,0],[-2,3,1]])\n",
        "B=np.array([[4,-2,1],[0,3,7],[0,0,2]])\n",
        "\n",
        "R=multiplicacion(A,B)\n",
        "R\n"
      ]
    },
    {
      "cell_type": "code",
      "source": [
        "#Ejercicio 7\n",
        "\n",
        "def descomposicion(R):\n",
        "  n=len(R[0,:])\n",
        "  L=np.zeros((n,n))\n",
        "  U=np.zeros((n,n))\n",
        "  U[0,:]=R[0,:]\n",
        "  for i in range(n):\n",
        "    L[i,i]=1\n",
        "  L[1,0]=R[1,0]/U[0,0]\n",
        "  U[1,1]=R[1,1]-(U[0,1]*L[1,0])\n",
        "  U[1,2]=R[1,2]-(L[1,0]*U[0,2])\n",
        "  L[2,0]=R[2,0]/U[0,0]\n",
        "  L[2,1]=(R[2,1]-(U[0,1]*L[2,0]))/U[1,1]\n",
        "  U[2,2]=R[2,2]-(U[0,2]*L[2,0])-(U[1,2]*L[2,1])\n",
        "  return L,U\n",
        "descomposicion(R)\n",
        "\n",
        "\n",
        "\n"
      ],
      "metadata": {
        "colab": {
          "base_uri": "https://localhost:8080/"
        },
        "id": "WBYvZs1WnFUp",
        "outputId": "4b3baa6f-511d-4bbf-f172-7383acfcfcd9"
      },
      "execution_count": null,
      "outputs": [
        {
          "output_type": "execute_result",
          "data": {
            "text/plain": [
              "(array([[ 1.,  0.,  0.],\n",
              "        [ 5.,  1.,  0.],\n",
              "        [-2.,  3.,  1.]]),\n",
              " array([[ 4., -2.,  1.],\n",
              "        [ 0.,  3.,  7.],\n",
              "        [ 0.,  0.,  2.]]))"
            ]
          },
          "metadata": {},
          "execution_count": 3
        }
      ]
    },
    {
      "cell_type": "code",
      "source": [
        "#Ejercicio 8\n",
        "A=np.array([[3,-1,-1],[-1,3,1],[2,1,4]])\n",
        "b=np.array([1,3,7])\n",
        "\n",
        "L,U= descomposicion(A)\n",
        "\n",
        "def sustitucion_adelante(L,b):\n",
        "  n=L.shape[1]\n",
        "  sol=np.zeros((n))\n",
        "  sum=0\n",
        "  for i in range(n):\n",
        "    for j in range(n-1):\n",
        "      sum+=L[i,j]*sol[j]\n",
        "    sol[i]=b[i]-sum\n",
        "    sum=0\n",
        "  return sol\n",
        "s=sustitucion_adelante(L,b)\n",
        "np.dot(L,s)\n",
        "\n",
        "#def sustitucion_atras():\n",
        "\n",
        "\n"
      ],
      "metadata": {
        "id": "qk7rHx6xTCLw",
        "colab": {
          "base_uri": "https://localhost:8080/"
        },
        "outputId": "0941e567-380f-4eb2-a47d-948fa72e681f"
      },
      "execution_count": null,
      "outputs": [
        {
          "output_type": "execute_result",
          "data": {
            "text/plain": [
              "array([1., 3., 7.])"
            ]
          },
          "metadata": {},
          "execution_count": 4
        }
      ]
    },
    {
      "cell_type": "code",
      "source": [
        "#Ejercicio 10\n",
        "import numpy as np\n",
        "A = np.array([[1.,2.,-1.],[1.,0.,1.],[4.,-4.,5.]])\n",
        "\n",
        "eigenvectors = np.zeros((3, 3))\n",
        "\n",
        "p = np.poly(A)\n",
        "\n",
        "roots = np.roots(p)\n",
        "\n",
        "eigenvectors=[]\n",
        "\n",
        "for i in range(len(roots)):\n",
        "    B = A - roots[i] * np.identity(3)\n",
        "    v0 = np.zeros(3)\n",
        "    v0[i] = 1.\n",
        "    v1 = np.dot(B,v0)\n",
        "    v1 = v1/np.linalg.norm(v1)\n",
        "    eigenvectors.append(v1)\n",
        "    \n",
        "print(roots[2])\n",
        "print(eigenvectors[1])"
      ],
      "metadata": {
        "id": "uv7eiUsL6Sv_",
        "outputId": "f163ecc7-77ea-4d33-9632-9387b42ba33a",
        "colab": {
          "base_uri": "https://localhost:8080/"
        }
      },
      "execution_count": null,
      "outputs": [
        {
          "output_type": "stream",
          "name": "stdout",
          "text": [
            "0.9999999999999987\n",
            "[ 0.40824829 -0.40824829 -0.81649658]\n"
          ]
        }
      ]
    },
    {
      "cell_type": "code",
      "source": [
        "#ejercicio 9\n",
        "_A=np.array([[4,1,1],[1,3,2],[1,2,5]])\n",
        "def matriz_rotacion(angie,i,j,n):\n",
        "  matrix=np.identity(n)\n",
        "  matrix[i,i]=np.cos(angie)\n",
        "  matrix[j,j]=np.cos(angie)\n",
        "  matrix[i,j]=np.sin(angie)\n",
        "  matrix[j,i]=-np.sin(angie)\n",
        "  return matrix\n",
        "\n",
        "def maximum(_n):\n",
        "  maximo=0\n",
        "  maxub=np.zeros((2))\n",
        "  for i in range(np.shape(_n)[0]):\n",
        "    for j in range(np.shape(_n)[0]):\n",
        "      if _n[i,j] > maximo:\n",
        "        maximo=_n[i,j]\n",
        "        maxub[0], maxub[1]= i , j \n",
        "  return maxub\n",
        "\n",
        "def valores_vectores_propios(_A, it_max=5):\n",
        "  \n",
        "  A=_A\n",
        "  maximoss=0\n",
        "  maxub=np.zeros((2))\n",
        "  n=3\n",
        "  rotacion=0\n",
        "  diagonal=np.zeros((n,n))\n",
        "  nueva=np.random.random((n,n))\n",
        "  Angulo=0\n",
        "  it=0\n",
        "  vectores=np.identity(n)\n",
        "  while nueva.any() != 0 :\n",
        "    for i in range(n):\n",
        "      diagonal[i,i]=A[i,i]\n",
        "      nueva=A-diagonal\n",
        "    maximoss=maximum(nueva)\n",
        "    pi=int(maximoss[0])\n",
        "    pj=int(maximoss[1])\n",
        "    if A[pi,pi] - A[pj,pj] == 0:\n",
        "      rotacion=matriz_rotacion(np.pi/4,pi,pj,n)\n",
        "    else:\n",
        "      Angulo=np.arctan((2*A[pi,pj])/(A[pi,pi]-A[pj,pj]))/2\n",
        "      rotacion=matriz_rotacion(Angulo,pi,pj,n)\n",
        "    \n",
        "    vectores=vectores @ rotacion.T  \n",
        "    A= rotacion @ A @ rotacion.T\n",
        "    Angulo=0\n",
        "    it+=1\n",
        "    \n",
        "  \n",
        "    if it == it_max:\n",
        "      nueva=np.zeros((n,n))\n",
        "\n",
        "  valores=np.array([A[2,2], A[0,0], A[1,1]])\n",
        "  vectores2=np.zeros((n,n))\n",
        "  vectores2[:,0], vectores2[:,1], vectores2[:,2]=vectores[:,2], vectores[:,0], -vectores[:,1]\n",
        "  \n",
        "  return valores, vectores2\n",
        "\n",
        "\n",
        "valores_vectores_propios(_A), np.linalg.eig(_A)"
      ],
      "metadata": {
        "colab": {
          "base_uri": "https://localhost:8080/"
        },
        "id": "M05Bm4j868x5",
        "outputId": "8e9cc770-cdc3-4b27-95c8-4cb591a043cd"
      },
      "execution_count": null,
      "outputs": [
        {
          "output_type": "execute_result",
          "data": {
            "text/plain": [
              "((array([6.89510652, 3.39729482, 1.70759867]),\n",
              "  array([[ 0.43170398,  0.8856695 ,  0.17094212],\n",
              "         [ 0.49725438, -0.07555865, -0.86430837],\n",
              "         [ 0.75257541, -0.45812708,  0.47302201]])),\n",
              " (array([6.89510652, 3.39729507, 1.70759841]),\n",
              "  array([[ 0.43170413,  0.88573564,  0.17059871],\n",
              "         [ 0.49725362, -0.07589338, -0.86427949],\n",
              "         [ 0.75257583, -0.45794385,  0.47319874]])))"
            ]
          },
          "metadata": {},
          "execution_count": 6
        }
      ]
    },
    {
      "cell_type": "code",
      "source": [
        "#ejercicio 12\n",
        "def f1(x,y,z):\n",
        "  return (6*x)-(2*np.cos(y*z))-1\n",
        "def f2(x,y,z):\n",
        "  return 9*y + (x**2+np.sin(z)+1.06)**(1/2)+0.9\n",
        "def f3(x,y,z):\n",
        "  return 60*z+3*np.exp(-x*y)+10*np.pi-3\n",
        "\n",
        "def dx(f,x,y,z,h):\n",
        "    d=0\n",
        "    if h != 0:\n",
        "      d=(f((x+h),y,z)-f((x-h),y,z))/(2*h)\n",
        "    return d \n",
        "def dy(f,x,y,z,h):\n",
        "    d=0\n",
        "    if h != 0:\n",
        "      d=(f(x,(y+h),z)-f(x,(y-h),z))/(2*h)\n",
        "    return d \n",
        "def dz(f,x,y,z,h):\n",
        "    d=0\n",
        "    if h != 0:\n",
        "      d=(f(x,y,(z+h))-f(x,y,(z-h)))/(2*h)\n",
        "    return d \n",
        "def Gradient_xyz(f, x, y, z, h): \n",
        "    grad = np.array([0., 0., 0.])\n",
        "    gradx=dx(f,x,y,z,h)\n",
        "    grady=dy(f,x,y,z,h)\n",
        "    gradz=dz(f,x,y,z,h)\n",
        "    grad[0]=gradx\n",
        "    grad[1]=grady\n",
        "    grad[2]=gradz\n",
        "    return grad\n",
        "\n",
        "def jacobiano2(v,f1,f2,f3,h):\n",
        "  M=[]\n",
        "  M.append(Gradient_xyz(f1,v[0],v[1],v[2],h))\n",
        "  M.append(Gradient_xyz(f2,v[0],v[1],v[2],h))\n",
        "  M.append(Gradient_xyz(f3,v[0],v[1],v[2],h))\n",
        "  return np.linalg.det(M)\n",
        "\n",
        "def dx4(f,x,y,z,h):\n",
        "    d=0\n",
        "    if h != 0:\n",
        "      d=(f((x-2*h),y,z)-8*f((x-h),y,z)+8*f((x+h),y,z)-f((x+2*h),y,z))/(12*h)\n",
        "    return d \n",
        "def dy4(f,x,y,z,h):\n",
        "    d=0\n",
        "    if h != 0:\n",
        "      d=(f(x,(y-2*h),z)-8*f(x,(y-h),z)+8*f(x,(y+h),z)-f(x,(y+2*h),z))/(12*h)\n",
        "    return d \n",
        "def dz4(f,x,y,z,h):\n",
        "    d=0\n",
        "    if h != 0:\n",
        "      d=(f(x,y,(z-2*h))-8*f(x,y,(z-h))+8*f(x,y,(z+h))-f(x,y,(z+2*h)))/(12*h)\n",
        "    return d \n",
        "def Gradient_xyz4(f, x, y, z, h): \n",
        "    grad = np.array([0., 0., 0.])\n",
        "    gradx=dx4(f,x,y,z,h)\n",
        "    grady=dy4(f,x,y,z,h)\n",
        "    gradz=dz4(f,x,y,z,h)\n",
        "    grad[0]=gradx\n",
        "    grad[1]=grady\n",
        "    grad[2]=gradz\n",
        "    return grad\n",
        "\n",
        "def jacobiano4(v,f1,f2,f3,h):\n",
        "  M=[]\n",
        "  M.append(Gradient_xyz4(f1,v[0],v[1],v[2],h))\n",
        "  M.append(Gradient_xyz4(f2,v[0],v[1],v[2],h))\n",
        "  M.append(Gradient_xyz4(f3,v[0],v[1],v[2],h))\n",
        "  return np.linalg.det(M)\n",
        "\n",
        "\n",
        "\n",
        "\n",
        "print(\"h2:\")\n",
        "print(jacobiano2([0.5,0.5,0.5],f1,f2,f3,0.01))\n",
        "print(\"h4:\")\n",
        "print(jacobiano4([0.5,0.5,0.5],f1,f2,f3,0.01))\n",
        "print(\"Para que h2 esté muy cercano a h4, se necesita que el h de h4 sea en 0.1\")"
      ],
      "metadata": {
        "colab": {
          "base_uri": "https://localhost:8080/"
        },
        "id": "ILAZJYRFe8zb",
        "outputId": "c1f36fe6-34be-4a30-a63b-7e115ba11460"
      },
      "execution_count": null,
      "outputs": [
        {
          "output_type": "stream",
          "name": "stdout",
          "text": [
            "h2:\n",
            "3239.1492018183885\n",
            "h4:\n",
            "3239.1490485161194\n",
            "Para que h2 esté muy cercano a h4, se necesita que el h de h4 sea en 0.1\n"
          ]
        }
      ]
    },
    {
      "cell_type": "code",
      "source": [
        "#Ejercicio 13\n",
        "j1=np.array([[0,0,0],[0,0,-1],[0,1,0]])\n",
        "j2=np.array([[0,0,1],[0,0,0],[-1,0,0]])\n",
        "j3=np.array([[0,-1,0],[1,0,0],[0,0,0]])\n",
        "\n",
        "\n",
        "matrices=np.array([j1,j2,j3])\n",
        "a = np.array([0,1,2])\n",
        "y=np.array([[0,0,0]])\n",
        "E=0\n",
        "p1=np.array([0,1,2])\n",
        "p2=np.array([1,2,0])\n",
        "p3=np.array([2,0,1])\n",
        "for p in multiset_permutations(a):\n",
        "  y=np.append(y,[p],axis=0)\n",
        "for i in range(1,7):\n",
        "  l=np.array(y[i])\n",
        "  if np.array_equal(l,p1) or np.array_equal(l,p2) or np.array_equal(l,p3) :\n",
        "    E=1\n",
        "  else:\n",
        "    E=-1\n",
        "  print((matrices[l[0]] @ matrices[l[1]] - matrices[l[1]]@ matrices[l[0]] == E*matrices[l[2]]).all())\n",
        "\n"
      ],
      "metadata": {
        "id": "RgBiGMHigDB3",
        "colab": {
          "base_uri": "https://localhost:8080/"
        },
        "outputId": "b393ec2b-4666-4678-deeb-0c3291dd5e6e"
      },
      "execution_count": null,
      "outputs": [
        {
          "output_type": "stream",
          "name": "stdout",
          "text": [
            "True\n",
            "True\n",
            "True\n",
            "True\n",
            "True\n",
            "True\n"
          ]
        }
      ]
    },
    {
      "cell_type": "code",
      "source": [
        "#Ejercicio 14\n",
        "j1=np.array([[0,1],[1,0]])\n",
        "j2=np.array([[0,-1j],[1j,0]])\n",
        "j3=np.array([[1,0],[0,-1]])\n",
        "\n",
        "\n",
        "matrices=np.array([j1,j2,j3])\n",
        "a = np.array([0,1,2])\n",
        "y=np.array([[0,0,0]])\n",
        "E=0\n",
        "p1=np.array([0,1,2])\n",
        "p2=np.array([1,2,0])\n",
        "p3=np.array([2,0,1])\n",
        "for p in multiset_permutations(a):\n",
        "  y=np.append(y,[p],axis=0)\n",
        "for i in range(1,7):\n",
        "  l=np.array(y[i])\n",
        "  if np.array_equal(l,p1) or np.array_equal(l,p2) or np.array_equal(l,p3) :\n",
        "    E=1\n",
        "  else:\n",
        "    E=-1\n",
        "  print((matrices[l[0]] @ matrices[l[1]] - matrices[l[1]]@ matrices[l[0]] == 2j*E*matrices[l[2]]).all())"
      ],
      "metadata": {
        "id": "98vFo9uva2td",
        "colab": {
          "base_uri": "https://localhost:8080/"
        },
        "outputId": "7220f845-09e4-446d-e745-616dfc3bedb3"
      },
      "execution_count": null,
      "outputs": [
        {
          "output_type": "stream",
          "name": "stdout",
          "text": [
            "True\n",
            "True\n",
            "True\n",
            "True\n",
            "True\n",
            "True\n"
          ]
        }
      ]
    },
    {
      "cell_type": "code",
      "source": [
        "#Ejercicio 15\n",
        "j00=np.array([[1,0,0,0],[0,1,0,0],[0,0,-1,0],[0,0,0,-1]])\n",
        "j11=np.array([[0,0,0,1],[0,0,1,0],[0,-1,0,0],[-1,0,0,0]])\n",
        "j22=np.array([[0,0,0,-1j],[0,0,1j,0],[0,1j,0,0],[-1j,0,0,0]])\n",
        "j33=np.array([[0,0,1,0],[0,0,0,-1],[-1,0,0,0],[0,1,0,0]])\n",
        "nn=np.array([[1,0,0,0],[0,-1,0,0],[0,0,-1,0],[0,0,0,-1]])\n",
        "matrices=np.array([j00,j11,j22,j33])\n",
        "a = np.array([0,1,2,3])\n",
        "y=np.array([[0,0,0,0]])\n",
        "\n",
        "for p in multiset_permutations(a):\n",
        "  y=np.append(y,[p],axis=0)\n",
        "  \n",
        "for i in range(1,25):\n",
        "  l=np.array(y[i])\n",
        "\n",
        "  print((matrices[l[0]] @ matrices[l[1]] + matrices[l[1]]@ matrices[l[0]] == 2*nn[l[0],l[1]] * np.identity(4)).all())"
      ],
      "metadata": {
        "id": "h-3VuxLuPy92",
        "colab": {
          "base_uri": "https://localhost:8080/"
        },
        "outputId": "a83bcd6b-bdfa-474d-e035-aeee1e1c121e"
      },
      "execution_count": null,
      "outputs": [
        {
          "output_type": "stream",
          "name": "stdout",
          "text": [
            "True\n",
            "True\n",
            "True\n",
            "True\n",
            "True\n",
            "True\n",
            "True\n",
            "True\n",
            "True\n",
            "True\n",
            "True\n",
            "True\n",
            "True\n",
            "True\n",
            "True\n",
            "True\n",
            "True\n",
            "True\n",
            "True\n",
            "True\n",
            "True\n",
            "True\n",
            "True\n",
            "True\n"
          ]
        }
      ]
    },
    {
      "cell_type": "markdown",
      "source": [
        "# Minimos cuadrados\n",
        "\n"
      ],
      "metadata": {
        "id": "lhs4mIeup15V"
      }
    },
    {
      "cell_type": "code",
      "source": [
        "#Ejercicio 1\n",
        "#a)\n",
        "P=np.array([[2,-1],[1,2],[1,1]])\n",
        "y=np.array([2,1,4])\n",
        "v=np.linalg.inv(P.T @ P) @ P.T @ y\n",
        "print(v)\n",
        "tm=np.linspace(0,5,100)\n",
        "def r1(tm):\n",
        "  return 2*tm-2\n",
        "def r2(tm):\n",
        "  return (1-tm)/2\n",
        "def r3(tm):\n",
        "  return 4-tm\n",
        "\n",
        "plt.plot(tm,r1(tm))\n",
        "plt.plot(tm,r2(tm))\n",
        "plt.plot(tm,r3(tm))\n",
        "plt.scatter(v[0],v[1], color=\"r\")\n",
        "\n",
        "# El punto calculado es el que mejor cumple con el sistema de ecuaciones. Es la proyeccion del vector solucion sobre el espacio columna refinido por los vectores columna de la matriz P."
      ],
      "metadata": {
        "id": "_3QtQMjzp6BM",
        "colab": {
          "base_uri": "https://localhost:8080/",
          "height": 465
        },
        "outputId": "e93bb99d-9f82-4b1a-d431-58d613280579"
      },
      "execution_count": null,
      "outputs": [
        {
          "output_type": "stream",
          "name": "stdout",
          "text": [
            "[1.42857143 0.42857143]\n"
          ]
        },
        {
          "output_type": "execute_result",
          "data": {
            "text/plain": [
              "<matplotlib.collections.PathCollection at 0x7fd5cce09ab0>"
            ]
          },
          "metadata": {},
          "execution_count": 12
        },
        {
          "output_type": "display_data",
          "data": {
            "text/plain": [
              "<Figure size 640x480 with 1 Axes>"
            ],
            "image/png": "[encoded data removed]"
          },
          "metadata": {}
        }
      ]
    },
    {
      "cell_type": "code",
      "source": [
        "#Ejercicio 1\n",
        "#b)\n",
        "pry=np.linspace(-5,5,100)\n",
        "v_2=np.zeros([2])\n",
        "y=np.array([2,1,4])\n",
        "resul=np.array([[0,0,0]])\n",
        "normas=100\n",
        "ubp=np.zeros((2))\n",
        "normas2=np.zeros((10000))\n",
        "for i in range(len(pry)):\n",
        "  for j in range(len(pry)):\n",
        "    v_2[0]=pry[i]\n",
        "    v_2[1]=pry[j]\n",
        "    z1= P @ v_2 - y \n",
        "    if np.linalg.norm(z1) < normas:\n",
        "      normas=np.linalg.norm(z1)\n",
        "      ubp[0]=pry[i]\n",
        "      ubp[1]=pry[j]\n",
        "\n",
        "    resul=np.append(resul,[z], axis=0)\n",
        "\n",
        "for i in range(10000):\n",
        "  normas2[i]=np.linalg.norm(resul[i])\n",
        "\n",
        "print(ubp)\n",
        "\n",
        "plt.plot(tm,r1(tm))\n",
        "plt.plot(tm,r2(tm))\n",
        "plt.plot(tm,r3(tm))\n",
        "plt.scatter(ubp[0],ubp[1], color=\"r\")\n",
        "\n",
        "plt.show()\n",
        "\n",
        "\n",
        "# El punto está bastante cerca al calculado con el metodo anterior, sin embargo como no podemos muestrar puntos infinitos los valores difieren."
      ],
      "metadata": {
        "id": "GExAwBBGXMbO",
        "colab": {
          "base_uri": "https://localhost:8080/",
          "height": 447
        },
        "outputId": "805bea60-caf9-43dd-f9f3-dd618d88570d"
      },
      "execution_count": null,
      "outputs": [
        {
          "output_type": "stream",
          "name": "stdout",
          "text": [
            "[1.46464646 0.45454545]\n"
          ]
        },
        {
          "output_type": "display_data",
          "data": {
            "text/plain": [
              "<Figure size 640x480 with 1 Axes>"
            ],
            "image/png": "[encoded data removed]"
          },
          "metadata": {}
        }
      ]
    },
    {
      "cell_type": "code",
      "source": [
        "#Ejercicio 7\n",
        "urllib.request.urlretrieve('https://raw.githubusercontent.com/asegura4488/Database/main/MetodosComputacionalesReforma/Sigmoid.csv', 'Sigmoid.csv')\n",
        "\n",
        "data = np.loadtxt('Sigmoid.csv',dtype=str,skiprows=1)\n",
        "data1 = []\n",
        "X = []\n",
        "Y = []\n",
        "for i in range(len(data)):\n",
        "    lista = data[i].split(\",\")\n",
        "    lista1 = [ float(x) for x in lista ]\n",
        "    data1.append(lista1)\n",
        "    \n",
        "for i in data1:\n",
        "    X.append(i[0])\n",
        "    Y.append(i[1])\n",
        "x = np.array(X)\n",
        "y = np.array(Y)\n",
        "\n",
        "#a\n",
        "def M(x,teta):\n",
        "    a = teta[0]/(teta[1]+np.exp(-1*teta[2]*x))\n",
        "    return a\n",
        "#b\n",
        "def func_costo(teta):\n",
        "    a = 0\n",
        "    for i in range(len(x)):\n",
        "        a += (y[i]-M(x[i],teta))**2\n",
        "    return a\n",
        "#c\n",
        "def DP_Noerr(t,h = 0.01):\n",
        "    DParcial = np.zeros(3)\n",
        "    \n",
        "    DParcial[0] = (func_costo([t[0]+h,t[1],t[2]]) - func_costo([t[0]-h,t[1],t[2]])) / (2*h)\n",
        "    DParcial[1] = (func_costo([t[0],t[1]+h,t[2]]) - func_costo([t[0],t[1]-h,t[2]])) / (2*h)\n",
        "    DParcial[2] = (func_costo([t[0],t[1],t[2]+h]) - func_costo([t[0],t[1],t[2]-h])) / (2*h)\n",
        "    return DParcial\n",
        "print(\"sin error para [1,1,1] (Dado en d)\" )\n",
        "print(DP_Noerr([1,1,1]))\n",
        "\n",
        "\n",
        "#d\n",
        "def DP_Err(l,t, h):\n",
        "    t1 = t.copy()\n",
        "    t2 = t.copy()\n",
        "            \n",
        "    t1[l] = t1[l]+h\n",
        "    t2[l] = t2[l]-h\n",
        "    \n",
        "    sum = 0\n",
        "    for i in range(len(y)):\n",
        "        f = y[i]-M(x[i],t)\n",
        "        dp = (M(x[i],t1) - M(x[i],t2))/(2*h)\n",
        "        sum+= f*dp\n",
        "    \n",
        "    t=(-2)*sum\n",
        "\n",
        "    return t\n",
        "print(\"con error\" )\n",
        "print(DP_Err(0,[1,1,1],0.01),DP_Err(1,[1,1,1],0.01),DP_Err(2,[1,1,1],0.01))\n",
        "\n",
        "print(\"Los resultados varian levemente, el mejor modelo es el primero\")\n",
        "\n",
        "#e\n",
        "\n",
        "def Descenso(l,t,max,Error): \n",
        "    e0 = 1\n",
        "    it_min = 0\n",
        "    for i in range(max):\n",
        "        if e0 > Error:\n",
        "            f1 = DP_Noerr(t)\n",
        "            t = t-l*f1\n",
        "    return t\n",
        "a = Descenso(1/1000,[1,1,1],10000,0.01)\n",
        "print(a)\n",
        "\n",
        "#f\n",
        "x_ = np.linspace(min(x),max(x))\n",
        "\n",
        "plt.scatter(x,y)\n"
      ],
      "metadata": {
        "id": "wwr2QMXK_Htr",
        "colab": {
          "base_uri": "https://localhost:8080/",
          "height": 551
        },
        "outputId": "0a076166-22b7-48a4-eb1e-17a0e8d17434"
      },
      "execution_count": null,
      "outputs": [
        {
          "output_type": "stream",
          "name": "stdout",
          "text": [
            "sin error para [1,1,1] (Dado en d)\n",
            "[-110.01069727  103.89842074   -5.93182878]\n",
            "con error\n",
            "-110.0106972728062 103.90111918798551 -5.9317654127667145\n",
            "Los resultados varian levemente, el mejor modelo es el primero\n",
            "[4.40296875 0.97576351 2.78679217]\n"
          ]
        },
        {
          "output_type": "execute_result",
          "data": {
            "text/plain": [
              "<matplotlib.collections.PathCollection at 0x7fd5ccd3a770>"
            ]
          },
          "metadata": {},
          "execution_count": 14
        },
        {
          "output_type": "display_data",
          "data": {
            "text/plain": [
              "<Figure size 640x480 with 1 Axes>"
            ],
            "image/png": "[encoded data removed]"
          },
          "metadata": {}
        }
      ]
    },
    {
      "cell_type": "code",
      "source": [],
      "metadata": {
        "id": "bndqKmvrNuBz"
      },
      "execution_count": null,
      "outputs": []
    }
  ]
}